{
 "cells": [
  {
   "cell_type": "code",
   "execution_count": 55,
   "id": "a7889892",
   "metadata": {},
   "outputs": [
    {
     "name": "stdout",
     "output_type": "stream",
     "text": [
      "[ kw float ]  [ id x1 ]  [ op = ]  [ num 3.125 ]  [ sep ; ]  [ kw double ]  [ id f1 ] [ par ( ]  [ kw int ]  [ id x ]  [ par ) ]  [ brc { ]  [ kw double ]  [ id z ]  [ sep ; ]  [ id z ]  [ op = ]  [ num 0.01 ]  [ sep ; ]  [ kw return ]  [ id z ]  [ sep ; ]  [ brc } ]  [ kw int ]  [ id main ]  [ par ( ]  [ kw void ]  [ par ) ]  [ brc { ]  [ kw int ]  [ id n1 ] [ sep ; ]  [ kw double ]  [ id z ]  [ sep ; ]  [ id n1 ]  [ op = ]  [ num 25 ]  [ sep ; ] [ id z ]  [ op = ]  [ id f1 ]  [ par ( ]  [ id n1 ]  [ par ) ]  [ sep ; ]\n",
      "\n",
      "['[', 'float', ']', '[', 'id', 'x1', ']', '[', '=', ']', '[', '3.125', ']', '[', ';', ']', '[', 'double', ']', '[', 'id', 'f1', ']', '[', '(', ']', '[', 'int', ']', '[', 'id', 'x', ']', '[', ')', ']', '[', '{', ']', '[', 'double', ']', '[', 'id', 'z', ']', '[', ';', ']', '[', 'id', 'z', ']', '[', '=', ']', '[', '0.01', ']', '[', ';', ']', '[', 'return', ']', '[', 'id', 'z', ']', '[', ';', ']', '[', '}', ']', '[', 'int', ']', '[', 'id', 'main', ']', '[', '(', ']', '[', 'void', ']', '[', ')', ']', '[', '{', ']', '[', 'int', ']', '[', 'id', 'n1', ']', '[', ';', ']', '[', 'double', ']', '[', 'id', 'z', ']', '[', ';', ']', '[', 'id', 'n1', ']', '[', '=', ']', '[', '25', ']', '[', ';', ']', '[', 'id', 'z', ']', '[', '=', ']', '[', 'id', 'f1', ']', '[', '(', ']', '[', 'id', 'n1', ']', '[', ')', ']', '[', ';', ']']\n",
      "\n",
      "x1   float\n",
      "f1   double\n",
      "x   int\n",
      "z   double\n",
      "main   int\n",
      "n1   int\n",
      "z   double\n"
     ]
    }
   ],
   "source": [
    "\n",
    "#variable\n",
    "lexemes=\"\"\n",
    "copy_lexemes=\"\"\n",
    "tokenToBeRemove=[\"kw\",\"op\",\"num\",\"sep\",\"par\",\"brc\"]\n",
    "dataType=[\"double\",\"int\",\"float\"]\n",
    "\n",
    "#read file\n",
    "file = open(\"input.txt\",\"r\")\n",
    "lexemes=file.read()\n",
    "\n",
    "#create space between [ ] \n",
    "for i in range(len(lexemes)):\n",
    "    if lexemes[i]==\"[\":\n",
    "        copy_lexemes+=lexemes[i]+\" \"\n",
    "    elif lexemes[i]==\"]\":\n",
    "         copy_lexemes+=\" \"+lexemes[i]\n",
    "    else:\n",
    "        copy_lexemes+=lexemes[i]\n",
    "        \n",
    "print(copy_lexemes)\n",
    "print()\n",
    "\n",
    "#seperate every keyword\n",
    "lexemes_list=copy_lexemes.split()\n",
    "\n",
    "#only identifiers are kept\n",
    "for items in  lexemes_list:\n",
    "    if(items in tokenToBeRemove):\n",
    "        lexemes_list.remove(items)\n",
    "        \n",
    "print(lexemes_list)\n",
    "print()\n",
    "for i in range(len(lexemes_list)):\n",
    "    if(lexemes_list[i]==\"id\" and lexemes_list[i-3] in dataType):\n",
    "        print(lexemes_list[i+1],\" \",lexemes_list[i-3])\n",
    "        \n",
    "\n",
    "file.close()"
   ]
  },
  {
   "cell_type": "code",
   "execution_count": null,
   "id": "3dacb793",
   "metadata": {},
   "outputs": [],
   "source": []
  }
 ],
 "metadata": {
  "kernelspec": {
   "display_name": "Python 3 (ipykernel)",
   "language": "python",
   "name": "python3"
  },
  "language_info": {
   "codemirror_mode": {
    "name": "ipython",
    "version": 3
   },
   "file_extension": ".py",
   "mimetype": "text/x-python",
   "name": "python",
   "nbconvert_exporter": "python",
   "pygments_lexer": "ipython3",
   "version": "3.11.1"
  }
 },
 "nbformat": 4,
 "nbformat_minor": 5
}
